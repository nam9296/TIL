{
 "cells": [
  {
   "cell_type": "markdown",
   "metadata": {},
   "source": [
    "### 1. 음수가 아닌 수들이 주어졌을 때 그 수들을 이어서 만들 수 있는 가장 큰 수를 구하시오. \n",
    "- 예를 들어 [1,2,3]이 주어졌을 때 만들 수 있는 가장 큰 수는 321이고, [3, 30, 34, 5, 9] 가 주어지면 만들 수 있는 가장 큰 수는 9534330이다.\n"
   ]
  },
  {
   "cell_type": "code",
   "execution_count": 104,
   "metadata": {},
   "outputs": [
    {
     "name": "stdout",
     "output_type": "stream",
     "text": [
      "3,30,34,5,9\n",
      "9534330\n"
     ]
    }
   ],
   "source": [
    "nums=input().split(',')\n",
    "bin=[]\n",
    "for i in nums:\n",
    "    if int(i)>0:\n",
    "        bin.append(i)\n",
    "bin.reverse()\n",
    "\n",
    "for j in range(len(bin)-1):\n",
    "    if len(bin[j]) > len(bin[j+1]) and len(bin[j+1]) == 1 and bin[j][0] == bin[j+1][0] and int(bin[j][1]) < int(bin[j+1]):\n",
    "        bin.insert(j+1,bin.pop(j))\n",
    "print(''.join(bin))"
   ]
  },
  {
   "cell_type": "markdown",
   "metadata": {},
   "source": [
    "### 2. 4개의 직사각형이 평면에 있는데 밑변이 모두 가로축에 평행하다. 이 직사각형들이 차지하는 면적을 구하는 프로그램을 작성하시오. \n",
    "이 네 개의 직사각형들은 서로 떨어져 있을 수도 있고 겹쳐 있을 수도 있다. 또한 하나가 다른 하나를 포함할 수도 있으며, \n",
    "변이나 꼭지점이 겹쳐질 수도 있다.\n",
    "\n",
    "입력형식\n",
    "하나의 직사각형은 왼쪽 아래의 꼭지점과 오른쪽 위의 꼭지점의 좌표로 주어진다. 입력은 네 줄이며, \n",
    "각 줄은 네 개의 정수로 하나의 직사각형을 나타낸다. \n",
    "첫 번째와 두 번째의 정수는 사각형의 왼쪽 아래 꼭지점의 x좌표, y좌표이고, \n",
    "세 번째와 네 번째의 정수는 사각형의 오른쪽 위 꼭지점의 x좌표, y좌표이다. \n",
    "단, x좌표와 y좌표는 1 이상이고 1000 이하인 정수이다.\n",
    "\n",
    "출력형식\n",
    "화면에 4개의 직사각형이 차지하는 면적을 출력한다.\n",
    "- 입력예제\n",
    "     - 1 2 4 4\n",
    "     - 2 3 5 7\n",
    "     - 3 1 6 5\n",
    "     - 7 3 8 6\n",
    "\n",
    "출력예제\n",
    "26\n"
   ]
  },
  {
   "cell_type": "code",
   "execution_count": null,
   "metadata": {},
   "outputs": [],
   "source": []
  }
 ],
 "metadata": {
  "kernelspec": {
   "display_name": "Python 3",
   "language": "python",
   "name": "python3"
  },
  "language_info": {
   "codemirror_mode": {
    "name": "ipython",
    "version": 3
   },
   "file_extension": ".py",
   "mimetype": "text/x-python",
   "name": "python",
   "nbconvert_exporter": "python",
   "pygments_lexer": "ipython3",
   "version": "3.8.3"
  }
 },
 "nbformat": 4,
 "nbformat_minor": 4
}
