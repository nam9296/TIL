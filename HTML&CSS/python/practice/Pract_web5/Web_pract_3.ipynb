{
 "cells": [
  {
   "cell_type": "code",
   "execution_count": 18,
   "metadata": {},
   "outputs": [],
   "source": [
    "from selenium import webdriver\n",
    "driver=webdriver.Chrome(\"c:/scrap/chromedriver.exe\")\n"
   ]
  },
  {
   "cell_type": "code",
   "execution_count": 19,
   "metadata": {},
   "outputs": [],
   "source": [
    "url =\"https://stackoverflow.com/questions/tagged/python\""
   ]
  },
  {
   "cell_type": "code",
   "execution_count": 20,
   "metadata": {},
   "outputs": [],
   "source": [
    "driver.get(url)"
   ]
  },
  {
   "cell_type": "code",
   "execution_count": 21,
   "metadata": {},
   "outputs": [],
   "source": [
    "from bs4 import BeautifulSoup\n",
    "html=driver.page_source\n",
    "soup= BeautifulSoup(html,\"html.parser\")"
   ]
  },
  {
   "cell_type": "code",
   "execution_count": 22,
   "metadata": {},
   "outputs": [
    {
     "data": {
      "text/plain": [
       "[<a class=\"question-hyperlink\" href=\"/questions/65758677/converting-both-a-dictionarys-keys-and-values-to-columns-in-a-pandas-dataframe\">Converting both a dictionary's keys and values to columns in a pandas dataframe efficiently</a>,\n",
       " <a class=\"question-hyperlink\" href=\"/questions/65758673/python-session-use-default-values\">Python Session use default values?</a>,\n",
       " <a class=\"question-hyperlink\" href=\"/questions/65758637/im-making-checkers-in-pygame-the-way-i-want-a-piece-to-move-is-with-2-mouse-clic\">Im making Checkers in pygame the way I want a piece to move is with 2 mouse clicks but I don't know how to do that</a>,\n",
       " <a class=\"question-hyperlink\" href=\"/questions/65758636/admin-inline-manytomany-autocomplete-fields\">admin inline ManyToMany autocomplete_fields</a>,\n",
       " <a class=\"question-hyperlink\" href=\"/questions/65758620/are-there-any-differences-in-and-in-python\">Are there any differences in “ ” and ' ' in Python? [duplicate]</a>,\n",
       " <a class=\"question-hyperlink\" href=\"/questions/65758588/regex-non-greediness\">Regex (non) greediness</a>,\n",
       " <a class=\"question-hyperlink\" href=\"/questions/65758585/pyspark-to-timestamp-return-incorrect-timestamp-value\">Pyspark: to_timestamp return incorrect timestamp value</a>,\n",
       " <a class=\"question-hyperlink\" href=\"/questions/65758560/valueerror-indices-and-data-should-have-the-same-size\">ValueError: indices and data should have the same size</a>,\n",
       " <a class=\"question-hyperlink\" href=\"/questions/65758559/comparing-two-lists-and-building-dictionary-on-match\">Comparing two lists and building dictionary on match</a>,\n",
       " <a class=\"question-hyperlink\" href=\"/questions/65758552/how-print-two-times-same-random-number\">How print two times same random number?</a>,\n",
       " <a class=\"question-hyperlink\" href=\"/questions/65758548/getting-import-error-mongoclient-due-to-circular-import\">getting Import error, MongoClient , due to circular import [closed]</a>,\n",
       " <a class=\"question-hyperlink\" href=\"/questions/65758525/django-modelform-for-multiple-categories-of-a-product-in-eav-data-model\">Django ModelForm for Multiple Categories of a Product in EAV data model</a>,\n",
       " <a class=\"question-hyperlink\" href=\"/questions/65758517/anyone-want-to-tell-me-why-my-pygame-code-lags-while-using-pygame-vectors\">Anyone want to tell me why my pygame code lags while using pygame Vectors?</a>,\n",
       " <a class=\"question-hyperlink\" href=\"/questions/65758514/node-object-has-no-attribute-insert-for-binary-tree-implementation\">'Node' object has no attribute 'insert' for Binary Tree Implementation</a>,\n",
       " <a class=\"question-hyperlink\" href=\"/questions/65758495/how-can-i-fingerprint-with-folder-of-audio-file-with-one-audio-file\">How can i fingerprint with folder of audio file with one audio file?</a>]"
      ]
     },
     "execution_count": 22,
     "metadata": {},
     "output_type": "execute_result"
    }
   ],
   "source": [
    "Title=soup.select(\" div.question-summary > div.summary > h3 > a \")\n",
    "#Title"
   ]
  },
  {
   "cell_type": "code",
   "execution_count": 23,
   "metadata": {
    "scrolled": true
   },
   "outputs": [
    {
     "name": "stdout",
     "output_type": "stream",
     "text": [
      "Converting both a dictionary's keys and values to columns in a pandas dataframe efficiently\n",
      "Python Session use default values?\n",
      "Im making Checkers in pygame the way I want a piece to move is with 2 mouse clicks but I don't know how to do that\n",
      "admin inline ManyToMany autocomplete_fields\n",
      "Are there any differences in “ ” and ' ' in Python? [duplicate]\n",
      "Regex (non) greediness\n",
      "Pyspark: to_timestamp return incorrect timestamp value\n",
      "ValueError: indices and data should have the same size\n",
      "Comparing two lists and building dictionary on match\n",
      "How print two times same random number?\n",
      "getting Import error, MongoClient , due to circular import [closed]\n",
      "Django ModelForm for Multiple Categories of a Product in EAV data model\n",
      "Anyone want to tell me why my pygame code lags while using pygame Vectors?\n",
      "'Node' object has no attribute 'insert' for Binary Tree Implementation\n",
      "How can i fingerprint with folder of audio file with one audio file?\n"
     ]
    }
   ],
   "source": [
    "for i in range(len(Title)):\n",
    "    print(Title[i].text)"
   ]
  },
  {
   "cell_type": "code",
   "execution_count": null,
   "metadata": {},
   "outputs": [],
   "source": []
  }
 ],
 "metadata": {
  "kernelspec": {
   "display_name": "Python 3",
   "language": "python",
   "name": "python3"
  },
  "language_info": {
   "codemirror_mode": {
    "name": "ipython",
    "version": 3
   },
   "file_extension": ".py",
   "mimetype": "text/x-python",
   "name": "python",
   "nbconvert_exporter": "python",
   "pygments_lexer": "ipython3",
   "version": "3.8.3"
  }
 },
 "nbformat": 4,
 "nbformat_minor": 4
}
